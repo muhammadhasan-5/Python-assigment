{
 "cells": [
  {
   "cell_type": "code",
   "execution_count": null,
   "metadata": {},
   "outputs": [
    {
     "name": "stdout",
     "output_type": "stream",
     "text": [
      "Enter a Number : 12\n",
      "Enter  an other Number : 3\n"
     ]
    }
   ],
   "source": [
    "# Assignment Qno#01\n",
    "No1 = float(input('Enter a Number : '))\n",
    "No2 = float(input('Enter  an other Number : '))\n",
    "operator = input('Enter operation eg (-,+,/,*,**): ')\n",
    "\n",
    "if (operator == '-'):\n",
    "    result = No1 - No2\n",
    "    print(\"Subtraction of \",No1,\" and \",No2,\" is \",result)\n",
    "elif(operator == '+'):\n",
    "    result = No1 + No2\n",
    "    print(\"Addition of \",No1,\" and \",No2,\" is \",result)\n",
    "elif(operator == '/'):\n",
    "    result = No1/No2\n",
    "    print(\"Division of \",No1,\" and \",No2,\" is \",result)\n",
    "elif(operator == '*'):\n",
    "    result = No1* No2\n",
    "    print(\"Multiplication of \",No1,\" and \",No2,\" is \",result)\n",
    "elif(operator == '**'):\n",
    "    result = No1 ** No2\n",
    "    print(No1,\" power \",No2,\" is: \",result)\n",
    "else:\n",
    "    print('Enter correct operator')"
   ]
  },
  {
   "cell_type": "code",
   "execution_count": 3,
   "metadata": {},
   "outputs": [
    {
     "name": "stdout",
     "output_type": "stream",
     "text": [
      "enter the value Numeric Value8\n",
      "This Is Not In your List\n",
      "Numeric Is From Your List \n",
      "This Is Not In your List\n",
      "This Is Not In your List\n",
      "Numeric Is From Your List \n"
     ]
    }
   ],
   "source": [
    "#CODE NO 02\n",
    "numeric=[3,8,7,5,8]\n",
    "value= input(\"enter the value Numeric Value\")\n",
    "for y in numeric:\n",
    "    if value ==y :\n",
    "        print(\"Numeric Is From Your List \")\n",
    "    else:\n",
    "        print(\"This Is Not In your List\")\n",
    "        "
   ]
  },
  {
   "cell_type": "code",
   "execution_count": 12,
   "metadata": {},
   "outputs": [
    {
     "name": "stdout",
     "output_type": "stream",
     "text": [
      "{'Contact': '03122003079', 'Name': 'HASAN', 'language': 'urdu', 'Address': 'Karachi'}\n"
     ]
    }
   ],
   "source": [
    "#CODE NO 03\n",
    "student = {\n",
    "    \"Name\" : \"HASAN\",\n",
    "    \"Contact\" : \"03122003079\",\n",
    "    \"Address\" : \"Karachi\"\n",
    "}\n",
    "student[\"language\"]= \"urdu\"\n",
    "print(student)\n",
    "        "
   ]
  },
  {
   "cell_type": "code",
   "execution_count": 16,
   "metadata": {},
   "outputs": [
    {
     "name": "stdout",
     "output_type": "stream",
     "text": [
      "Total sum of values in the dictionary:\n",
      "879\n"
     ]
    }
   ],
   "source": [
    "#CODE NO 04\n",
    "d={'A':100,'B':540,'C':239}\n",
    "print(\"Total sum of values in the dictionary:\")\n",
    "print(sum(d.values()))"
   ]
  },
  {
   "cell_type": "code",
   "execution_count": 32,
   "metadata": {},
   "outputs": [
    {
     "name": "stdout",
     "output_type": "stream",
     "text": [
      "enter the value Numeric Value:.... 3\n",
      "('YOUR Duplicated value is', 3)\n"
     ]
    }
   ],
   "source": [
    "#CODE NO 05\n",
    "numeric=[3,8,7,5,8]\n",
    "value= input(\"enter the value Numeric Value:.... \")\n",
    "for y in numeric:\n",
    "    if value ==y :\n",
    "        print(\"YOUR Duplicated value is\",y)\n",
    "    \n",
    "\n"
   ]
  },
  {
   "cell_type": "code",
   "execution_count": null,
   "metadata": {},
   "outputs": [],
   "source": [
    "# Code No 06\n",
    "x = {'z': 10, 'l': 50, 'c': 74, 'm': 12, 'f': 44, 'g': 19}\n",
    " \n",
    "print(x)\n",
    " \n",
    "if 'z' in x.keys():\n",
    "    print(\"True\")\n",
    "else:\n",
    "    print(\"False\")\n",
    " \n",
    "# Using ternary operator:\n",
    "msg = \"True\" if 'z' in x else \"False\"\n",
    "print(msg)"
   ]
  },
  {
   "cell_type": "code",
   "execution_count": null,
   "metadata": {},
   "outputs": [],
   "source": []
  }
 ],
 "metadata": {
  "kernelspec": {
   "display_name": "Python 2",
   "language": "python",
   "name": "python2"
  },
  "language_info": {
   "codemirror_mode": {
    "name": "ipython",
    "version": 2
   },
   "file_extension": ".py",
   "mimetype": "text/x-python",
   "name": "python",
   "nbconvert_exporter": "python",
   "pygments_lexer": "ipython2",
   "version": "2.7.16"
  }
 },
 "nbformat": 4,
 "nbformat_minor": 2
}
